{
 "cells": [
  {
   "cell_type": "code",
   "execution_count": 1,
   "id": "2a9bcdf8",
   "metadata": {},
   "outputs": [
    {
     "ename": "SyntaxError",
     "evalue": "invalid syntax (<ipython-input-1-8f1af21bc0f0>, line 1)",
     "output_type": "error",
     "traceback": [
      "\u001b[1;36m  File \u001b[1;32m\"<ipython-input-1-8f1af21bc0f0>\"\u001b[1;36m, line \u001b[1;32m1\u001b[0m\n\u001b[1;33m    CASO DE EXITO DE NEO4J CON INTELIGENCIA ARTIFICIAL\u001b[0m\n\u001b[1;37m         ^\u001b[0m\n\u001b[1;31mSyntaxError\u001b[0m\u001b[1;31m:\u001b[0m invalid syntax\n"
     ]
    }
   ],
   "source": [
    "CASO DE EXITO DE NEO4J CON INTELIGENCIA ARTIFICIAL\n",
    "\n",
    "\n",
    "\n",
    "Aplicación de Ebay en la Asistente de Google\n",
    "\n",
    "Ebay buscada la manera de mejorar la forma de buscar los articulos para los compradores, con la inteligencia artificial + comercio = Asistencia de compra altamente personalizada para todos.\n",
    "\n",
    "Ebay ShopBot Beta es un asistente de compras personal, con la funcion de encontrar las mejores ofertas, buscando algo especifico o simplemente buscando ideas, mejorando el inventario, como ejemplo los productos con sus precios fijos, ofertas, envío rápido, económico o en caso gratuito. Puede usar texto, voz o fotos para realizar la busqueda.[1]\n",
    "\n",
    "Neo4j impulsa el comercio inteligente para la aplicación de eBay en el asistente de google, elimina la información que no se especifica en realidad en las decisiones de compra.\n",
    "\n",
    "Solución\n",
    "\n",
    "Para la creación de la aplicaion de Ebay ShopBoot, necesita coombinar la comprensión del lenguaje natural y la inteligencia articial para almacenar, recordar y aprender las interacciones de los compradores. Debido al almacenar los datos eBay eligió Neo4j como la base de datos de gráficos, el cual contiene los modelos probabilísticos que conlleva a tener una mejor comprensión del escenario de las compras. El gráfico de Neo4j contiene información de los productos, la cual contiene sus atributos de los productos que buscan los compradores.[2]\n",
    "\n",
    "Fuentes:\n",
    "[1]. https://medium.com/@rjpittman/ebay-shopbot-beta-under-the-hood-bedf69157a70 # \n",
    "[2]. https://neo4j.com/case-studies/ebay/"
   ]
  },
  {
   "cell_type": "code",
   "execution_count": null,
   "id": "af5a3a31",
   "metadata": {},
   "outputs": [],
   "source": []
  }
 ],
 "metadata": {
  "kernelspec": {
   "display_name": "Python 3",
   "language": "python",
   "name": "python3"
  },
  "language_info": {
   "codemirror_mode": {
    "name": "ipython",
    "version": 3
   },
   "file_extension": ".py",
   "mimetype": "text/x-python",
   "name": "python",
   "nbconvert_exporter": "python",
   "pygments_lexer": "ipython3",
   "version": "3.8.5"
  }
 },
 "nbformat": 4,
 "nbformat_minor": 5
}
