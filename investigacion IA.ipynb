{
 "cells": [
  {
   "cell_type": "code",
   "execution_count": null,
   "id": "92ff0be6",
   "metadata": {},
   "outputs": [],
   "source": [
    "Investigación Inteligencia Artificial en Ecuador\n",
    "Luis Orellana P.\n",
    "MinerBA\n",
    "Ubicado en Cuenca, capitaliza el poder de la información a través de modelos\n",
    "estadísticos avanzados e IA brindado un estado de negocios a los ejecutivos, desde\n",
    "diferentes perspectivas con información actualizada, para la toma de decisiones la\n",
    "plataforma tecnológica de minería utiliza tecnología que permite integrar múltiples\n",
    "fuentes y procesar grandes volúmenes de datos. Como ejemplo de un cliente de\n",
    "MinerBA es la Cooperativa de Ahorro y Crédito CREA\n",
    "\n",
    "Kriptos\n",
    "Ubicado en Quito, es una empresa con IA que puede controlar, clasificar y proteger los\n",
    "datos de una empresa, predicción de fuga que encuentra usuarios de alto riesgo con\n",
    "acceso a documentos confidenciales, además con clasificación automática que elimina\n",
    "procesos manuales tediosos, costosos y lentos, siguiendo con la asignación de\n",
    "presupuestos eficiente para la distribución de fondos de seguridad correctamente.\n"
   ]
  }
 ],
 "metadata": {
  "kernelspec": {
   "display_name": "Python 3",
   "language": "python",
   "name": "python3"
  },
  "language_info": {
   "codemirror_mode": {
    "name": "ipython",
    "version": 3
   },
   "file_extension": ".py",
   "mimetype": "text/x-python",
   "name": "python",
   "nbconvert_exporter": "python",
   "pygments_lexer": "ipython3",
   "version": "3.8.5"
  }
 },
 "nbformat": 4,
 "nbformat_minor": 5
}
